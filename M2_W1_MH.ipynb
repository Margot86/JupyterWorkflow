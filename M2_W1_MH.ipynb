{
 "cells": [
  {
   "cell_type": "code",
   "execution_count": 7,
   "metadata": {},
   "outputs": [
    {
     "name": "stdout",
     "output_type": "stream",
     "text": [
      "[\n",
      "    {\n",
      "        \"courses\": [\n",
      "            {\n",
      "                \"statistics\": \"Tom\"\n",
      "            },\n",
      "            {\n",
      "                \"programming\": \"Linda\"\n",
      "            },\n",
      "            {\n",
      "                \"math\": \"Sara\"\n",
      "            }\n",
      "        ],\n",
      "        \"degree\": \"bachelor\",\n",
      "        \"id\": \"1\",\n",
      "        \"name\": \"Guido\",\n",
      "        \"start_year\": \"2007\"\n",
      "    },\n",
      "    {\n",
      "        \"courses\": [\n",
      "            {\n",
      "                \"ethics\": \"Sui\"\n",
      "            },\n",
      "            {\n",
      "                \"physics\": \"Ed\"\n",
      "            },\n",
      "            {\n",
      "                \"biology\": \"Sam\"\n",
      "            }\n",
      "        ],\n",
      "        \"degree\": \"master\",\n",
      "        \"id\": \"2\",\n",
      "        \"name\": \"Florine\",\n",
      "        \"start_year\": \"2004\"\n",
      "    },\n",
      "    {\n",
      "        \"courses\": [\n",
      "            {\n",
      "                \"psychology\": \"Max\"\n",
      "            },\n",
      "            {\n",
      "                \"marketing\": \"Hannah\"\n",
      "            },\n",
      "            {\n",
      "                \"analytics\": \"Steven\"\n",
      "            }\n",
      "        ],\n",
      "        \"degree\": \"bachelor\",\n",
      "        \"id\": \"3\",\n",
      "        \"name\": \"Lara\",\n",
      "        \"start_year\": \"2008\"\n",
      "    }\n",
      "]\n"
     ]
    }
   ],
   "source": [
    "import json\n",
    "student_data = '[{\"name\": \"Guido\",\"id\": \"1\",\"degree\": \"bachelor\",\"start_year\": \"2007\",\"courses\":[{\"statistics\":\"Tom\"}, {\"programming\":\"Linda\"}, {\"math\":\"Sara\"}]},{\"name\": \"Florine\",\"id\": \"2\",\"degree\": \"master\",\"start_year\": \"2004\",\"courses\": [{\"ethics\":\"Sui\"}, {\"physics\":\"Ed\"}, {\"biology\":\"Sam\"}]},{\"name\": \"Lara\",\"id\": \"3\",\"degree\": \"bachelor\",\"start_year\": \"2008\",\"courses\": [{\"psychology\":\"Max\"}, {\"marketing\":\"Hannah\"}, {\"analytics\":\"Steven\"}]}]'\n",
    "parsed = json.loads(student_data)\n",
    "print(json.dumps(parsed, indent=4, sort_keys=True))"
   ]
  },
  {
   "cell_type": "code",
   "execution_count": 8,
   "metadata": {},
   "outputs": [],
   "source": [
    "with open('./M2_W1_MH.json','w') as fp:\n",
    "    json.dump(student_data,fp)"
   ]
  },
  {
   "cell_type": "code",
   "execution_count": null,
   "metadata": {},
   "outputs": [],
   "source": [
    "with open('M2_W1_MH.json') as eg:\n",
    "    data = json.load(eg)"
   ]
  }
 ],
 "metadata": {
  "kernelspec": {
   "display_name": "Python 3",
   "language": "python",
   "name": "python3"
  },
  "language_info": {
   "codemirror_mode": {
    "name": "ipython",
    "version": 3
   },
   "file_extension": ".py",
   "mimetype": "text/x-python",
   "name": "python",
   "nbconvert_exporter": "python",
   "pygments_lexer": "ipython3",
   "version": "3.7.1"
  }
 },
 "nbformat": 4,
 "nbformat_minor": 2
}
